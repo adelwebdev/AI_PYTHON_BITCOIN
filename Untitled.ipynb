{
 "cells": [
  {
   "cell_type": "code",
   "execution_count": 225,
   "id": "79a251f7",
   "metadata": {},
   "outputs": [
    {
     "data": {
      "text/plain": [
       "1.0"
      ]
     },
     "execution_count": 225,
     "metadata": {},
     "output_type": "execute_result"
    }
   ],
   "source": [
    "import pandas as pd\n",
    "from sklearn.tree import DecisionTreeClassifier\n",
    "from sklearn.model_selection import train_test_split\n",
    "from sklearn.metrics import accuracy_score\n",
    "\n",
    "\n",
    "music_data = pd.read_csv(\"music.csv\")\n",
    "X = music_data.drop(columns = ['genre'])\n",
    "Y = music_data['genre']\n",
    "\n",
    "X_train, X_test, Y_train, Y_test = train_test_split(X, Y, test_size = 0.2)\n",
    "\n",
    "\n",
    "model = DecisionTreeClassifier()\n",
    "model.fit(X_train, Y_train)\n",
    "predictions = model.predict(X_test)\n",
    "score = accuracy_score(Y_test, predictions)\n",
    "score\n",
    "\n"
   ]
  },
  {
   "cell_type": "code",
   "execution_count": 233,
   "id": "3823bbb9",
   "metadata": {},
   "outputs": [
    {
     "data": {
      "text/plain": [
       "['music-recommenderV2.joblib']"
      ]
     },
     "execution_count": 233,
     "metadata": {},
     "output_type": "execute_result"
    }
   ],
   "source": [
    "import pandas as pd\n",
    "from sklearn.tree import DecisionTreeClassifier\n",
    "import joblib\n",
    "\n",
    "music_data = pd.read_csv(\"music.csv\")\n",
    "X = music_data.drop(columns = ['genre'])\n",
    "Y = music_data['genre']\n",
    "\n",
    "\n",
    "model = DecisionTreeClassifier()\n",
    "model.fit(X, Y)\n",
    "\n",
    "joblib.dump(model, \"music-recommenderV2.joblib\")\n",
    "\n",
    "# predictions = model.predict( [ [21,1] ] )\n",
    "\n"
   ]
  },
  {
   "cell_type": "code",
   "execution_count": 236,
   "id": "bbcb6aa7",
   "metadata": {},
   "outputs": [
    {
     "data": {
      "text/plain": [
       "array(['HipHop'], dtype=object)"
      ]
     },
     "execution_count": 236,
     "metadata": {},
     "output_type": "execute_result"
    }
   ],
   "source": [
    "import pandas as pd\n",
    "from sklearn.tree import DecisionTreeClassifier\n",
    "import joblib\n",
    "\n",
    "# music_data = pd.read_csv(\"music.csv\")\n",
    "# X = music_data.drop(columns = ['genre'])\n",
    "# Y = music_data['genre']\n",
    "\n",
    "# model = DecisionTreeClassifier()\n",
    "# model.fit(X, Y)\n",
    "\n",
    "model = joblib.load(\"music-recommenderV2.joblib\")\n",
    "predictions = model.predict( [ [21,1] ] )\n",
    "predictions"
   ]
  },
  {
   "cell_type": "code",
   "execution_count": 242,
   "id": "2d8f50c2",
   "metadata": {},
   "outputs": [],
   "source": [
    "import pandas as pd\n",
    "from sklearn.tree import DecisionTreeClassifier\n",
    "from sklearn import tree\n",
    "\n",
    "music_data = pd.read_csv(\"music.csv\")\n",
    "X = music_data.drop(columns = [\"genre\"] )\n",
    "Y = music_data[\"genre\"]\n",
    "\n",
    "model = DecisionTreeClassifier()\n",
    "model.fit(X, Y)\n",
    "\n",
    "tree.export_graphviz(model, out_file = \"music-recommenderV2.dot\", \n",
    "                     feature_names = [\"age\", \"gender\"], class_names = sorted(Y.unique()),\n",
    "                    label = \"all\", rounded = True, filled = \"True\")"
   ]
  },
  {
   "cell_type": "code",
   "execution_count": null,
   "id": "2cd663c3",
   "metadata": {},
   "outputs": [],
   "source": []
  }
 ],
 "metadata": {
  "kernelspec": {
   "display_name": "Python 3 (ipykernel)",
   "language": "python",
   "name": "python3"
  },
  "language_info": {
   "codemirror_mode": {
    "name": "ipython",
    "version": 3
   },
   "file_extension": ".py",
   "mimetype": "text/x-python",
   "name": "python",
   "nbconvert_exporter": "python",
   "pygments_lexer": "ipython3",
   "version": "3.9.7"
  }
 },
 "nbformat": 4,
 "nbformat_minor": 5
}
